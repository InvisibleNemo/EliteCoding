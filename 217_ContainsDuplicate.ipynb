{
 "cells": [
  {
   "cell_type": "markdown",
   "id": "44e796a2-456d-488a-9191-3690ccd53b3e",
   "metadata": {},
   "source": [
    "# Hashset Solution"
   ]
  },
  {
   "cell_type": "code",
   "execution_count": 3,
   "id": "7165504a-572e-4127-bb7f-e62910bfa261",
   "metadata": {},
   "outputs": [],
   "source": [
    "class HashsetSolution:\n",
    "    def containsDuplicate(self, nums: list[int]) -> bool:\n",
    "\n",
    "        nums_set = set()\n",
    "\n",
    "        for _ in nums:\n",
    "            if _ in nums_set:\n",
    "                return True\n",
    "            nums_set.add(_)\n",
    "\n",
    "        return False"
   ]
  },
  {
   "cell_type": "code",
   "execution_count": null,
   "id": "435cf499-31aa-407b-a785-864e83d56737",
   "metadata": {},
   "outputs": [],
   "source": []
  }
 ],
 "metadata": {
  "kernelspec": {
   "display_name": "Python 3 (ipykernel)",
   "language": "python",
   "name": "python3"
  },
  "language_info": {
   "codemirror_mode": {
    "name": "ipython",
    "version": 3
   },
   "file_extension": ".py",
   "mimetype": "text/x-python",
   "name": "python",
   "nbconvert_exporter": "python",
   "pygments_lexer": "ipython3",
   "version": "3.10.8"
  }
 },
 "nbformat": 4,
 "nbformat_minor": 5
}
