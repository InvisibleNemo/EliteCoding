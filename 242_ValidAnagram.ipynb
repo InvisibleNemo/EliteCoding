{
 "cells": [
  {
   "cell_type": "markdown",
   "id": "858db42b-3af4-4642-8b5d-9e5869dc1e11",
   "metadata": {},
   "source": [
    "# Sort and Compare Solution"
   ]
  },
  {
   "cell_type": "code",
   "execution_count": 1,
   "id": "e29aa513-5d80-4086-964b-495407f5b017",
   "metadata": {},
   "outputs": [],
   "source": [
    "class Solution:\n",
    "    def isAnagram(self, s: str, t: str) -> bool:\n",
    "        return sorted(s) == sorted(t)"
   ]
  },
  {
   "cell_type": "markdown",
   "id": "a93ccfbf-eab1-4306-9c76-1bae79265e1f",
   "metadata": {},
   "source": [
    "# Counter Solution"
   ]
  },
  {
   "cell_type": "code",
   "execution_count": 2,
   "id": "bbbc48f3-ac3c-4bb7-aa29-785c2609b315",
   "metadata": {},
   "outputs": [],
   "source": [
    "class Solution:\n",
    "    def isAnagram(self, s: str, t: str) -> bool:\n",
    "        return Counter(s) == Counter(t)"
   ]
  },
  {
   "cell_type": "code",
   "execution_count": null,
   "id": "7de7b101-ca99-410d-b89a-71d24f141dde",
   "metadata": {},
   "outputs": [],
   "source": []
  }
 ],
 "metadata": {
  "kernelspec": {
   "display_name": "Python 3 (ipykernel)",
   "language": "python",
   "name": "python3"
  },
  "language_info": {
   "codemirror_mode": {
    "name": "ipython",
    "version": 3
   },
   "file_extension": ".py",
   "mimetype": "text/x-python",
   "name": "python",
   "nbconvert_exporter": "python",
   "pygments_lexer": "ipython3",
   "version": "3.10.8"
  }
 },
 "nbformat": 4,
 "nbformat_minor": 5
}
